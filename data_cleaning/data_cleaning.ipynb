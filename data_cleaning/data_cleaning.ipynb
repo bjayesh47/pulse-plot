{
 "cells": [
  {
   "cell_type": "code",
   "execution_count": 4,
   "id": "6bfb3a0e-dbbb-4b77-b785-850c6ea98a8f",
   "metadata": {},
   "outputs": [],
   "source": [
    "import pandas as pd"
   ]
  },
  {
   "cell_type": "code",
   "execution_count": 5,
   "id": "5c306b89-bdde-4a77-a8f9-ee702294f286",
   "metadata": {
    "scrolled": true
   },
   "outputs": [
    {
     "data": {
      "text/html": [
       "<div>\n",
       "<style scoped>\n",
       "    .dataframe tbody tr th:only-of-type {\n",
       "        vertical-align: middle;\n",
       "    }\n",
       "\n",
       "    .dataframe tbody tr th {\n",
       "        vertical-align: top;\n",
       "    }\n",
       "\n",
       "    .dataframe thead th {\n",
       "        text-align: right;\n",
       "    }\n",
       "</style>\n",
       "<table border=\"1\" class=\"dataframe\">\n",
       "  <thead>\n",
       "    <tr style=\"text-align: right;\">\n",
       "      <th></th>\n",
       "      <th>Unnamed: 0</th>\n",
       "      <th>Unnamed: 0_x</th>\n",
       "      <th>name</th>\n",
       "      <th>id</th>\n",
       "      <th>Unnamed: 0_y</th>\n",
       "      <th>danceability</th>\n",
       "      <th>energy</th>\n",
       "      <th>key</th>\n",
       "      <th>loudness</th>\n",
       "      <th>mode</th>\n",
       "      <th>...</th>\n",
       "      <th>instrumentalness</th>\n",
       "      <th>liveness</th>\n",
       "      <th>valence</th>\n",
       "      <th>tempo</th>\n",
       "      <th>type</th>\n",
       "      <th>uri</th>\n",
       "      <th>track_href</th>\n",
       "      <th>analysis_url</th>\n",
       "      <th>duration_ms</th>\n",
       "      <th>time_signature</th>\n",
       "    </tr>\n",
       "  </thead>\n",
       "  <tbody>\n",
       "    <tr>\n",
       "      <th>0</th>\n",
       "      <td>0</td>\n",
       "      <td>0</td>\n",
       "      <td>Drag Me Down</td>\n",
       "      <td>3pDek256ZgaPcii9t9o4dv</td>\n",
       "      <td>0</td>\n",
       "      <td>0.711</td>\n",
       "      <td>0.729</td>\n",
       "      <td>8</td>\n",
       "      <td>-4.462</td>\n",
       "      <td>1</td>\n",
       "      <td>...</td>\n",
       "      <td>0.000000</td>\n",
       "      <td>0.0822</td>\n",
       "      <td>0.363</td>\n",
       "      <td>138.099</td>\n",
       "      <td>audio_features</td>\n",
       "      <td>spotify:track:3pDek256ZgaPcii9t9o4dv</td>\n",
       "      <td>https://api.spotify.com/v1/tracks/3pDek256ZgaP...</td>\n",
       "      <td>https://api.spotify.com/v1/audio-analysis/3pDe...</td>\n",
       "      <td>189226</td>\n",
       "      <td>4</td>\n",
       "    </tr>\n",
       "    <tr>\n",
       "      <th>1</th>\n",
       "      <td>1</td>\n",
       "      <td>1</td>\n",
       "      <td>Balam Pichkari</td>\n",
       "      <td>18e3XXYCv4Tx8uUl1mP3CN</td>\n",
       "      <td>1</td>\n",
       "      <td>0.732</td>\n",
       "      <td>0.944</td>\n",
       "      <td>0</td>\n",
       "      <td>-4.115</td>\n",
       "      <td>1</td>\n",
       "      <td>...</td>\n",
       "      <td>0.000000</td>\n",
       "      <td>0.4010</td>\n",
       "      <td>0.957</td>\n",
       "      <td>120.020</td>\n",
       "      <td>audio_features</td>\n",
       "      <td>spotify:track:18e3XXYCv4Tx8uUl1mP3CN</td>\n",
       "      <td>https://api.spotify.com/v1/tracks/18e3XXYCv4Tx...</td>\n",
       "      <td>https://api.spotify.com/v1/audio-analysis/18e3...</td>\n",
       "      <td>288903</td>\n",
       "      <td>4</td>\n",
       "    </tr>\n",
       "    <tr>\n",
       "      <th>2</th>\n",
       "      <td>2</td>\n",
       "      <td>2</td>\n",
       "      <td>Ilahi</td>\n",
       "      <td>5cgKosPPj5Cs9a2JQufUc1</td>\n",
       "      <td>2</td>\n",
       "      <td>0.593</td>\n",
       "      <td>0.967</td>\n",
       "      <td>9</td>\n",
       "      <td>-5.767</td>\n",
       "      <td>1</td>\n",
       "      <td>...</td>\n",
       "      <td>0.000025</td>\n",
       "      <td>0.1050</td>\n",
       "      <td>0.452</td>\n",
       "      <td>131.988</td>\n",
       "      <td>audio_features</td>\n",
       "      <td>spotify:track:5cgKosPPj5Cs9a2JQufUc1</td>\n",
       "      <td>https://api.spotify.com/v1/tracks/5cgKosPPj5Cs...</td>\n",
       "      <td>https://api.spotify.com/v1/audio-analysis/5cgK...</td>\n",
       "      <td>228982</td>\n",
       "      <td>4</td>\n",
       "    </tr>\n",
       "    <tr>\n",
       "      <th>3</th>\n",
       "      <td>3</td>\n",
       "      <td>3</td>\n",
       "      <td>Badtameez Dil</td>\n",
       "      <td>4eu27jAU2bbnyHUC3G75U8</td>\n",
       "      <td>3</td>\n",
       "      <td>0.806</td>\n",
       "      <td>0.932</td>\n",
       "      <td>2</td>\n",
       "      <td>-2.228</td>\n",
       "      <td>0</td>\n",
       "      <td>...</td>\n",
       "      <td>0.000000</td>\n",
       "      <td>0.2160</td>\n",
       "      <td>0.792</td>\n",
       "      <td>106.021</td>\n",
       "      <td>audio_features</td>\n",
       "      <td>spotify:track:4eu27jAU2bbnyHUC3G75U8</td>\n",
       "      <td>https://api.spotify.com/v1/tracks/4eu27jAU2bbn...</td>\n",
       "      <td>https://api.spotify.com/v1/audio-analysis/4eu2...</td>\n",
       "      <td>252760</td>\n",
       "      <td>4</td>\n",
       "    </tr>\n",
       "    <tr>\n",
       "      <th>4</th>\n",
       "      <td>4</td>\n",
       "      <td>4</td>\n",
       "      <td>Kabira</td>\n",
       "      <td>3jJ5HgLRNydtLRghjWVaCG</td>\n",
       "      <td>4</td>\n",
       "      <td>0.611</td>\n",
       "      <td>0.612</td>\n",
       "      <td>2</td>\n",
       "      <td>-7.978</td>\n",
       "      <td>1</td>\n",
       "      <td>...</td>\n",
       "      <td>0.000000</td>\n",
       "      <td>0.1800</td>\n",
       "      <td>0.898</td>\n",
       "      <td>171.841</td>\n",
       "      <td>audio_features</td>\n",
       "      <td>spotify:track:3jJ5HgLRNydtLRghjWVaCG</td>\n",
       "      <td>https://api.spotify.com/v1/tracks/3jJ5HgLRNydt...</td>\n",
       "      <td>https://api.spotify.com/v1/audio-analysis/3jJ5...</td>\n",
       "      <td>270439</td>\n",
       "      <td>4</td>\n",
       "    </tr>\n",
       "  </tbody>\n",
       "</table>\n",
       "<p>5 rows × 22 columns</p>\n",
       "</div>"
      ],
      "text/plain": [
       "   Unnamed: 0  Unnamed: 0_x            name                      id  \\\n",
       "0           0             0    Drag Me Down  3pDek256ZgaPcii9t9o4dv   \n",
       "1           1             1  Balam Pichkari  18e3XXYCv4Tx8uUl1mP3CN   \n",
       "2           2             2           Ilahi  5cgKosPPj5Cs9a2JQufUc1   \n",
       "3           3             3   Badtameez Dil  4eu27jAU2bbnyHUC3G75U8   \n",
       "4           4             4          Kabira  3jJ5HgLRNydtLRghjWVaCG   \n",
       "\n",
       "   Unnamed: 0_y  danceability  energy  key  loudness  mode  ...  \\\n",
       "0             0         0.711   0.729    8    -4.462     1  ...   \n",
       "1             1         0.732   0.944    0    -4.115     1  ...   \n",
       "2             2         0.593   0.967    9    -5.767     1  ...   \n",
       "3             3         0.806   0.932    2    -2.228     0  ...   \n",
       "4             4         0.611   0.612    2    -7.978     1  ...   \n",
       "\n",
       "   instrumentalness  liveness  valence    tempo            type  \\\n",
       "0          0.000000    0.0822    0.363  138.099  audio_features   \n",
       "1          0.000000    0.4010    0.957  120.020  audio_features   \n",
       "2          0.000025    0.1050    0.452  131.988  audio_features   \n",
       "3          0.000000    0.2160    0.792  106.021  audio_features   \n",
       "4          0.000000    0.1800    0.898  171.841  audio_features   \n",
       "\n",
       "                                    uri  \\\n",
       "0  spotify:track:3pDek256ZgaPcii9t9o4dv   \n",
       "1  spotify:track:18e3XXYCv4Tx8uUl1mP3CN   \n",
       "2  spotify:track:5cgKosPPj5Cs9a2JQufUc1   \n",
       "3  spotify:track:4eu27jAU2bbnyHUC3G75U8   \n",
       "4  spotify:track:3jJ5HgLRNydtLRghjWVaCG   \n",
       "\n",
       "                                          track_href  \\\n",
       "0  https://api.spotify.com/v1/tracks/3pDek256ZgaP...   \n",
       "1  https://api.spotify.com/v1/tracks/18e3XXYCv4Tx...   \n",
       "2  https://api.spotify.com/v1/tracks/5cgKosPPj5Cs...   \n",
       "3  https://api.spotify.com/v1/tracks/4eu27jAU2bbn...   \n",
       "4  https://api.spotify.com/v1/tracks/3jJ5HgLRNydt...   \n",
       "\n",
       "                                        analysis_url duration_ms  \\\n",
       "0  https://api.spotify.com/v1/audio-analysis/3pDe...      189226   \n",
       "1  https://api.spotify.com/v1/audio-analysis/18e3...      288903   \n",
       "2  https://api.spotify.com/v1/audio-analysis/5cgK...      228982   \n",
       "3  https://api.spotify.com/v1/audio-analysis/4eu2...      252760   \n",
       "4  https://api.spotify.com/v1/audio-analysis/3jJ5...      270439   \n",
       "\n",
       "  time_signature  \n",
       "0              4  \n",
       "1              4  \n",
       "2              4  \n",
       "3              4  \n",
       "4              4  \n",
       "\n",
       "[5 rows x 22 columns]"
      ]
     },
     "execution_count": 5,
     "metadata": {},
     "output_type": "execute_result"
    }
   ],
   "source": [
    "df = pd.read_csv('./../final_data.csv')\n",
    "df.head()"
   ]
  },
  {
   "cell_type": "code",
   "execution_count": 6,
   "id": "eee59b8d-6fb0-4497-bfbd-d8ab6ad6bad1",
   "metadata": {},
   "outputs": [
    {
     "data": {
      "text/plain": [
       "Index(['Unnamed: 0', 'Unnamed: 0_x', 'name', 'id', 'Unnamed: 0_y',\n",
       "       'danceability', 'energy', 'key', 'loudness', 'mode', 'speechiness',\n",
       "       'acousticness', 'instrumentalness', 'liveness', 'valence', 'tempo',\n",
       "       'type', 'uri', 'track_href', 'analysis_url', 'duration_ms',\n",
       "       'time_signature'],\n",
       "      dtype='object')"
      ]
     },
     "execution_count": 6,
     "metadata": {},
     "output_type": "execute_result"
    }
   ],
   "source": [
    "df.columns"
   ]
  },
  {
   "cell_type": "code",
   "execution_count": 8,
   "id": "198fb86c-4e79-4e3e-b670-d9ef9cc83833",
   "metadata": {},
   "outputs": [],
   "source": [
    "df = df.drop(columns = ['Unnamed: 0', 'Unnamed: 0_x', 'Unnamed: 0_y', 'type', 'uri', 'track_href', 'analysis_url', 'duration_ms', 'time_signature'])"
   ]
  },
  {
   "cell_type": "code",
   "execution_count": 19,
   "id": "75d33954-18e8-4ad6-a066-d6c54e312f14",
   "metadata": {},
   "outputs": [
    {
     "data": {
      "text/html": [
       "<div>\n",
       "<style scoped>\n",
       "    .dataframe tbody tr th:only-of-type {\n",
       "        vertical-align: middle;\n",
       "    }\n",
       "\n",
       "    .dataframe tbody tr th {\n",
       "        vertical-align: top;\n",
       "    }\n",
       "\n",
       "    .dataframe thead th {\n",
       "        text-align: right;\n",
       "    }\n",
       "</style>\n",
       "<table border=\"1\" class=\"dataframe\">\n",
       "  <thead>\n",
       "    <tr style=\"text-align: right;\">\n",
       "      <th></th>\n",
       "      <th>name</th>\n",
       "      <th>id</th>\n",
       "      <th>danceability</th>\n",
       "      <th>energy</th>\n",
       "      <th>key</th>\n",
       "      <th>loudness</th>\n",
       "      <th>mode</th>\n",
       "      <th>speechiness</th>\n",
       "      <th>acousticness</th>\n",
       "      <th>instrumentalness</th>\n",
       "      <th>liveness</th>\n",
       "      <th>valence</th>\n",
       "      <th>tempo</th>\n",
       "    </tr>\n",
       "  </thead>\n",
       "  <tbody>\n",
       "    <tr>\n",
       "      <th>0</th>\n",
       "      <td>Drag Me Down</td>\n",
       "      <td>3pDek256ZgaPcii9t9o4dv</td>\n",
       "      <td>0.711</td>\n",
       "      <td>0.729</td>\n",
       "      <td>8</td>\n",
       "      <td>-4.462</td>\n",
       "      <td>1</td>\n",
       "      <td>0.0822</td>\n",
       "      <td>0.0542</td>\n",
       "      <td>0.000000</td>\n",
       "      <td>0.0822</td>\n",
       "      <td>0.363</td>\n",
       "      <td>138.099</td>\n",
       "    </tr>\n",
       "    <tr>\n",
       "      <th>1</th>\n",
       "      <td>Balam Pichkari</td>\n",
       "      <td>18e3XXYCv4Tx8uUl1mP3CN</td>\n",
       "      <td>0.732</td>\n",
       "      <td>0.944</td>\n",
       "      <td>0</td>\n",
       "      <td>-4.115</td>\n",
       "      <td>1</td>\n",
       "      <td>0.0900</td>\n",
       "      <td>0.2090</td>\n",
       "      <td>0.000000</td>\n",
       "      <td>0.4010</td>\n",
       "      <td>0.957</td>\n",
       "      <td>120.020</td>\n",
       "    </tr>\n",
       "    <tr>\n",
       "      <th>2</th>\n",
       "      <td>Ilahi</td>\n",
       "      <td>5cgKosPPj5Cs9a2JQufUc1</td>\n",
       "      <td>0.593</td>\n",
       "      <td>0.967</td>\n",
       "      <td>9</td>\n",
       "      <td>-5.767</td>\n",
       "      <td>1</td>\n",
       "      <td>0.0907</td>\n",
       "      <td>0.1660</td>\n",
       "      <td>0.000025</td>\n",
       "      <td>0.1050</td>\n",
       "      <td>0.452</td>\n",
       "      <td>131.988</td>\n",
       "    </tr>\n",
       "    <tr>\n",
       "      <th>3</th>\n",
       "      <td>Badtameez Dil</td>\n",
       "      <td>4eu27jAU2bbnyHUC3G75U8</td>\n",
       "      <td>0.806</td>\n",
       "      <td>0.932</td>\n",
       "      <td>2</td>\n",
       "      <td>-2.228</td>\n",
       "      <td>0</td>\n",
       "      <td>0.0684</td>\n",
       "      <td>0.2400</td>\n",
       "      <td>0.000000</td>\n",
       "      <td>0.2160</td>\n",
       "      <td>0.792</td>\n",
       "      <td>106.021</td>\n",
       "    </tr>\n",
       "    <tr>\n",
       "      <th>4</th>\n",
       "      <td>Kabira</td>\n",
       "      <td>3jJ5HgLRNydtLRghjWVaCG</td>\n",
       "      <td>0.611</td>\n",
       "      <td>0.612</td>\n",
       "      <td>2</td>\n",
       "      <td>-7.978</td>\n",
       "      <td>1</td>\n",
       "      <td>0.1140</td>\n",
       "      <td>0.4410</td>\n",
       "      <td>0.000000</td>\n",
       "      <td>0.1800</td>\n",
       "      <td>0.898</td>\n",
       "      <td>171.841</td>\n",
       "    </tr>\n",
       "  </tbody>\n",
       "</table>\n",
       "</div>"
      ],
      "text/plain": [
       "             name                      id  danceability  energy  key  \\\n",
       "0    Drag Me Down  3pDek256ZgaPcii9t9o4dv         0.711   0.729    8   \n",
       "1  Balam Pichkari  18e3XXYCv4Tx8uUl1mP3CN         0.732   0.944    0   \n",
       "2           Ilahi  5cgKosPPj5Cs9a2JQufUc1         0.593   0.967    9   \n",
       "3   Badtameez Dil  4eu27jAU2bbnyHUC3G75U8         0.806   0.932    2   \n",
       "4          Kabira  3jJ5HgLRNydtLRghjWVaCG         0.611   0.612    2   \n",
       "\n",
       "   loudness  mode  speechiness  acousticness  instrumentalness  liveness  \\\n",
       "0    -4.462     1       0.0822        0.0542          0.000000    0.0822   \n",
       "1    -4.115     1       0.0900        0.2090          0.000000    0.4010   \n",
       "2    -5.767     1       0.0907        0.1660          0.000025    0.1050   \n",
       "3    -2.228     0       0.0684        0.2400          0.000000    0.2160   \n",
       "4    -7.978     1       0.1140        0.4410          0.000000    0.1800   \n",
       "\n",
       "   valence    tempo  \n",
       "0    0.363  138.099  \n",
       "1    0.957  120.020  \n",
       "2    0.452  131.988  \n",
       "3    0.792  106.021  \n",
       "4    0.898  171.841  "
      ]
     },
     "execution_count": 19,
     "metadata": {},
     "output_type": "execute_result"
    }
   ],
   "source": [
    "df.head()"
   ]
  },
  {
   "cell_type": "code",
   "execution_count": 14,
   "id": "6fe936b2-4b1d-433c-9800-e4c8e7c00a35",
   "metadata": {},
   "outputs": [
    {
     "data": {
      "text/plain": [
       "(1343, 13)"
      ]
     },
     "execution_count": 14,
     "metadata": {},
     "output_type": "execute_result"
    }
   ],
   "source": [
    "df.shape"
   ]
  },
  {
   "cell_type": "code",
   "execution_count": 18,
   "id": "afaef342-8280-4259-8635-b13c73c17ddd",
   "metadata": {},
   "outputs": [
    {
     "data": {
      "text/plain": [
       "name                0\n",
       "id                  0\n",
       "danceability        0\n",
       "energy              0\n",
       "key                 0\n",
       "loudness            0\n",
       "mode                0\n",
       "speechiness         0\n",
       "acousticness        0\n",
       "instrumentalness    0\n",
       "liveness            0\n",
       "valence             0\n",
       "tempo               0\n",
       "dtype: int64"
      ]
     },
     "execution_count": 18,
     "metadata": {},
     "output_type": "execute_result"
    }
   ],
   "source": [
    "#ensuring no cells are empty\n",
    "df.isnull().sum()"
   ]
  },
  {
   "cell_type": "code",
   "execution_count": 20,
   "id": "2bde14b4-e425-41c6-840a-169cbb782b6f",
   "metadata": {},
   "outputs": [
    {
     "data": {
      "text/plain": [
       "name                 object\n",
       "id                   object\n",
       "danceability        float64\n",
       "energy              float64\n",
       "key                   int64\n",
       "loudness            float64\n",
       "mode                  int64\n",
       "speechiness         float64\n",
       "acousticness        float64\n",
       "instrumentalness    float64\n",
       "liveness            float64\n",
       "valence             float64\n",
       "tempo               float64\n",
       "dtype: object"
      ]
     },
     "execution_count": 20,
     "metadata": {},
     "output_type": "execute_result"
    }
   ],
   "source": [
    "df.dtypes"
   ]
  },
  {
   "cell_type": "code",
   "execution_count": 21,
   "id": "ebab1546-1ec4-46be-84a6-979d1c95ede3",
   "metadata": {},
   "outputs": [
    {
     "data": {
      "text/plain": [
       "name                         thank u, next\n",
       "id                  7zgXFtMLaRnDweNdVWGpVF\n",
       "danceability                         0.971\n",
       "energy                               0.998\n",
       "key                                     11\n",
       "loudness                             0.107\n",
       "mode                                     1\n",
       "speechiness                          0.519\n",
       "acousticness                         0.995\n",
       "instrumentalness                     0.978\n",
       "liveness                             0.937\n",
       "valence                              0.982\n",
       "tempo                              200.155\n",
       "dtype: object"
      ]
     },
     "execution_count": 21,
     "metadata": {},
     "output_type": "execute_result"
    }
   ],
   "source": [
    "df.max(axis = 0)"
   ]
  },
  {
   "cell_type": "code",
   "execution_count": 22,
   "id": "d13f1a87-f06f-412e-977b-55e2fa7da966",
   "metadata": {},
   "outputs": [
    {
     "data": {
      "text/plain": [
       "name                              03:59:00\n",
       "id                  0066u0Nc8LLFYvln3BmBJd\n",
       "danceability                        0.0629\n",
       "energy                             0.00112\n",
       "key                                      0\n",
       "loudness                           -44.945\n",
       "mode                                     0\n",
       "speechiness                         0.0232\n",
       "acousticness                      0.000006\n",
       "instrumentalness                       0.0\n",
       "liveness                            0.0193\n",
       "valence                             0.0263\n",
       "tempo                               36.189\n",
       "dtype: object"
      ]
     },
     "execution_count": 22,
     "metadata": {},
     "output_type": "execute_result"
    }
   ],
   "source": [
    "df.min(axis = 0)"
   ]
  },
  {
   "cell_type": "code",
   "execution_count": 23,
   "id": "64296e7a-a542-4151-ae04-a765893a41d9",
   "metadata": {},
   "outputs": [],
   "source": [
    "df.to_csv('./../final_cleaned_data.csv')"
   ]
  }
 ],
 "metadata": {
  "kernelspec": {
   "display_name": "Python 3 (ipykernel)",
   "language": "python",
   "name": "python3"
  },
  "language_info": {
   "codemirror_mode": {
    "name": "ipython",
    "version": 3
   },
   "file_extension": ".py",
   "mimetype": "text/x-python",
   "name": "python",
   "nbconvert_exporter": "python",
   "pygments_lexer": "ipython3",
   "version": "3.12.1"
  }
 },
 "nbformat": 4,
 "nbformat_minor": 5
}
